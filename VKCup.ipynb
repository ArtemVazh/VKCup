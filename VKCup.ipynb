{
  "nbformat": 4,
  "nbformat_minor": 0,
  "metadata": {
    "colab": {
      "name": "VKCup.ipynb",
      "provenance": []
    },
    "kernelspec": {
      "name": "python3",
      "display_name": "Python 3"
    },
    "accelerator": "GPU"
  },
  "cells": [
    {
      "cell_type": "code",
      "metadata": {
        "id": "q31hnCifG8KQ",
        "colab_type": "code",
        "outputId": "285ee4a0-f532-4c78-a51e-873f9c860420",
        "colab": {
          "base_uri": "https://localhost:8080/",
          "height": 34
        }
      },
      "source": [
        "from google.colab import drive\n",
        "drive.mount('/vkcup/')"
      ],
      "execution_count": 0,
      "outputs": [
        {
          "output_type": "stream",
          "text": [
            "Drive already mounted at /vkcup/; to attempt to forcibly remount, call drive.mount(\"/vkcup/\", force_remount=True).\n"
          ],
          "name": "stdout"
        }
      ]
    },
    {
      "cell_type": "code",
      "metadata": {
        "id": "6bI8mLVoIQ-2",
        "colab_type": "code",
        "outputId": "d0b3fc7b-dd40-40fc-9160-853b8943b3cf",
        "colab": {
          "base_uri": "https://localhost:8080/",
          "height": 343
        }
      },
      "source": [
        "!pip install catboost\n",
        "!pip install xgboost"
      ],
      "execution_count": 0,
      "outputs": [
        {
          "output_type": "stream",
          "text": [
            "Requirement already satisfied: catboost in /usr/local/lib/python3.6/dist-packages (0.20.1)\n",
            "Requirement already satisfied: plotly in /usr/local/lib/python3.6/dist-packages (from catboost) (4.1.1)\n",
            "Requirement already satisfied: matplotlib in /usr/local/lib/python3.6/dist-packages (from catboost) (3.1.2)\n",
            "Requirement already satisfied: scipy in /usr/local/lib/python3.6/dist-packages (from catboost) (1.3.0)\n",
            "Requirement already satisfied: graphviz in /usr/local/lib/python3.6/dist-packages (from catboost) (0.10.1)\n",
            "Requirement already satisfied: pandas>=0.24.0 in /usr/local/lib/python3.6/dist-packages (from catboost) (0.24.2)\n",
            "Requirement already satisfied: numpy>=1.16.0 in /usr/local/lib/python3.6/dist-packages (from catboost) (1.17.4)\n",
            "Requirement already satisfied: six in /usr/local/lib/python3.6/dist-packages (from catboost) (1.13.0)\n",
            "Requirement already satisfied: retrying>=1.3.3 in /usr/local/lib/python3.6/dist-packages (from plotly->catboost) (1.3.3)\n",
            "Requirement already satisfied: python-dateutil>=2.1 in /usr/local/lib/python3.6/dist-packages (from matplotlib->catboost) (2.6.1)\n",
            "Requirement already satisfied: pyparsing!=2.0.4,!=2.1.2,!=2.1.6,>=2.0.1 in /usr/local/lib/python3.6/dist-packages (from matplotlib->catboost) (2.4.5)\n",
            "Requirement already satisfied: cycler>=0.10 in /usr/local/lib/python3.6/dist-packages (from matplotlib->catboost) (0.10.0)\n",
            "Requirement already satisfied: kiwisolver>=1.0.1 in /usr/local/lib/python3.6/dist-packages (from matplotlib->catboost) (1.1.0)\n",
            "Requirement already satisfied: pytz>=2011k in /usr/local/lib/python3.6/dist-packages (from pandas>=0.24.0->catboost) (2018.9)\n",
            "Requirement already satisfied: setuptools in /usr/local/lib/python3.6/dist-packages (from kiwisolver>=1.0.1->matplotlib->catboost) (42.0.2)\n",
            "Requirement already satisfied: xgboost in /usr/local/lib/python3.6/dist-packages (0.90)\n",
            "Requirement already satisfied: numpy in /usr/local/lib/python3.6/dist-packages (from xgboost) (1.17.4)\n",
            "Requirement already satisfied: scipy in /usr/local/lib/python3.6/dist-packages (from xgboost) (1.3.0)\n"
          ],
          "name": "stdout"
        }
      ]
    },
    {
      "cell_type": "code",
      "metadata": {
        "id": "FML8DxfIPvtM",
        "colab_type": "code",
        "outputId": "78c473fe-5de4-4422-88e8-86057fb563e5",
        "colab": {
          "base_uri": "https://localhost:8080/",
          "height": 377
        }
      },
      "source": [
        "!pip install transformers"
      ],
      "execution_count": 0,
      "outputs": [
        {
          "output_type": "stream",
          "text": [
            "Requirement already satisfied: transformers in /usr/local/lib/python3.6/dist-packages (2.2.1)\n",
            "Requirement already satisfied: boto3 in /usr/local/lib/python3.6/dist-packages (from transformers) (1.10.32)\n",
            "Requirement already satisfied: sacremoses in /usr/local/lib/python3.6/dist-packages (from transformers) (0.0.35)\n",
            "Requirement already satisfied: sentencepiece in /usr/local/lib/python3.6/dist-packages (from transformers) (0.1.83)\n",
            "Requirement already satisfied: tqdm in /usr/local/lib/python3.6/dist-packages (from transformers) (4.32.2)\n",
            "Requirement already satisfied: regex in /usr/local/lib/python3.6/dist-packages (from transformers) (2019.12.9)\n",
            "Requirement already satisfied: requests in /usr/local/lib/python3.6/dist-packages (from transformers) (2.22.0)\n",
            "Requirement already satisfied: numpy in /usr/local/lib/python3.6/dist-packages (from transformers) (1.17.4)\n",
            "Requirement already satisfied: botocore<1.14.0,>=1.13.32 in /usr/local/lib/python3.6/dist-packages (from boto3->transformers) (1.13.32)\n",
            "Requirement already satisfied: jmespath<1.0.0,>=0.7.1 in /usr/local/lib/python3.6/dist-packages (from boto3->transformers) (0.9.4)\n",
            "Requirement already satisfied: s3transfer<0.3.0,>=0.2.0 in /usr/local/lib/python3.6/dist-packages (from boto3->transformers) (0.2.1)\n",
            "Requirement already satisfied: six in /usr/local/lib/python3.6/dist-packages (from sacremoses->transformers) (1.13.0)\n",
            "Requirement already satisfied: joblib in /usr/local/lib/python3.6/dist-packages (from sacremoses->transformers) (0.14.0)\n",
            "Requirement already satisfied: click in /usr/local/lib/python3.6/dist-packages (from sacremoses->transformers) (7.0)\n",
            "Requirement already satisfied: urllib3!=1.25.0,!=1.25.1,<1.26,>=1.21.1 in /usr/local/lib/python3.6/dist-packages (from requests->transformers) (1.25.7)\n",
            "Requirement already satisfied: idna<2.9,>=2.5 in /usr/local/lib/python3.6/dist-packages (from requests->transformers) (2.8)\n",
            "Requirement already satisfied: chardet<3.1.0,>=3.0.2 in /usr/local/lib/python3.6/dist-packages (from requests->transformers) (3.0.4)\n",
            "Requirement already satisfied: certifi>=2017.4.17 in /usr/local/lib/python3.6/dist-packages (from requests->transformers) (2019.11.28)\n",
            "Requirement already satisfied: docutils<0.16,>=0.10 in /usr/local/lib/python3.6/dist-packages (from botocore<1.14.0,>=1.13.32->boto3->transformers) (0.15.2)\n",
            "Requirement already satisfied: python-dateutil<2.8.1,>=2.1; python_version >= \"2.7\" in /usr/local/lib/python3.6/dist-packages (from botocore<1.14.0,>=1.13.32->boto3->transformers) (2.6.1)\n"
          ],
          "name": "stdout"
        }
      ]
    },
    {
      "cell_type": "code",
      "metadata": {
        "id": "5ysh24gHP9Ak",
        "colab_type": "code",
        "outputId": "1e12673f-8970-448a-e91d-2c5014d6af94",
        "colab": {
          "base_uri": "https://localhost:8080/",
          "height": 491
        }
      },
      "source": [
        "import transformers\n",
        "import os\n",
        "import sys\n",
        "import glob\n",
        "import torch\n",
        "\n",
        "from sklearn.feature_extraction.text import TfidfVectorizer\n",
        "from sklearn.linear_model import SGDClassifier, LogisticRegression\n",
        "from sklearn.model_selection import train_test_split\n",
        "from sklearn.naive_bayes import MultinomialNB\n",
        "from sklearn import metrics\n",
        "from scipy.sparse import hstack\n",
        "from sklearn.svm import LinearSVC\n",
        "from sklearn.feature_extraction.text import CountVectorizer\n",
        "from sklearn.feature_extraction.text import TfidfTransformer\n",
        "from sklearn.pipeline import Pipeline\n",
        "import xgboost"
      ],
      "execution_count": 0,
      "outputs": [
        {
          "output_type": "stream",
          "text": [
            "/usr/local/lib/python3.6/dist-packages/tensorflow/python/framework/dtypes.py:516: FutureWarning: Passing (type, 1) or '1type' as a synonym of type is deprecated; in a future version of numpy, it will be understood as (type, (1,)) / '(1,)type'.\n",
            "  _np_qint8 = np.dtype([(\"qint8\", np.int8, 1)])\n",
            "/usr/local/lib/python3.6/dist-packages/tensorflow/python/framework/dtypes.py:517: FutureWarning: Passing (type, 1) or '1type' as a synonym of type is deprecated; in a future version of numpy, it will be understood as (type, (1,)) / '(1,)type'.\n",
            "  _np_quint8 = np.dtype([(\"quint8\", np.uint8, 1)])\n",
            "/usr/local/lib/python3.6/dist-packages/tensorflow/python/framework/dtypes.py:518: FutureWarning: Passing (type, 1) or '1type' as a synonym of type is deprecated; in a future version of numpy, it will be understood as (type, (1,)) / '(1,)type'.\n",
            "  _np_qint16 = np.dtype([(\"qint16\", np.int16, 1)])\n",
            "/usr/local/lib/python3.6/dist-packages/tensorflow/python/framework/dtypes.py:519: FutureWarning: Passing (type, 1) or '1type' as a synonym of type is deprecated; in a future version of numpy, it will be understood as (type, (1,)) / '(1,)type'.\n",
            "  _np_quint16 = np.dtype([(\"quint16\", np.uint16, 1)])\n",
            "/usr/local/lib/python3.6/dist-packages/tensorflow/python/framework/dtypes.py:520: FutureWarning: Passing (type, 1) or '1type' as a synonym of type is deprecated; in a future version of numpy, it will be understood as (type, (1,)) / '(1,)type'.\n",
            "  _np_qint32 = np.dtype([(\"qint32\", np.int32, 1)])\n",
            "/usr/local/lib/python3.6/dist-packages/tensorflow/python/framework/dtypes.py:525: FutureWarning: Passing (type, 1) or '1type' as a synonym of type is deprecated; in a future version of numpy, it will be understood as (type, (1,)) / '(1,)type'.\n",
            "  np_resource = np.dtype([(\"resource\", np.ubyte, 1)])\n",
            "/usr/local/lib/python3.6/dist-packages/tensorboard/compat/tensorflow_stub/dtypes.py:541: FutureWarning: Passing (type, 1) or '1type' as a synonym of type is deprecated; in a future version of numpy, it will be understood as (type, (1,)) / '(1,)type'.\n",
            "  _np_qint8 = np.dtype([(\"qint8\", np.int8, 1)])\n",
            "/usr/local/lib/python3.6/dist-packages/tensorboard/compat/tensorflow_stub/dtypes.py:542: FutureWarning: Passing (type, 1) or '1type' as a synonym of type is deprecated; in a future version of numpy, it will be understood as (type, (1,)) / '(1,)type'.\n",
            "  _np_quint8 = np.dtype([(\"quint8\", np.uint8, 1)])\n",
            "/usr/local/lib/python3.6/dist-packages/tensorboard/compat/tensorflow_stub/dtypes.py:543: FutureWarning: Passing (type, 1) or '1type' as a synonym of type is deprecated; in a future version of numpy, it will be understood as (type, (1,)) / '(1,)type'.\n",
            "  _np_qint16 = np.dtype([(\"qint16\", np.int16, 1)])\n",
            "/usr/local/lib/python3.6/dist-packages/tensorboard/compat/tensorflow_stub/dtypes.py:544: FutureWarning: Passing (type, 1) or '1type' as a synonym of type is deprecated; in a future version of numpy, it will be understood as (type, (1,)) / '(1,)type'.\n",
            "  _np_quint16 = np.dtype([(\"quint16\", np.uint16, 1)])\n",
            "/usr/local/lib/python3.6/dist-packages/tensorboard/compat/tensorflow_stub/dtypes.py:545: FutureWarning: Passing (type, 1) or '1type' as a synonym of type is deprecated; in a future version of numpy, it will be understood as (type, (1,)) / '(1,)type'.\n",
            "  _np_qint32 = np.dtype([(\"qint32\", np.int32, 1)])\n",
            "/usr/local/lib/python3.6/dist-packages/tensorboard/compat/tensorflow_stub/dtypes.py:550: FutureWarning: Passing (type, 1) or '1type' as a synonym of type is deprecated; in a future version of numpy, it will be understood as (type, (1,)) / '(1,)type'.\n",
            "  np_resource = np.dtype([(\"resource\", np.ubyte, 1)])\n"
          ],
          "name": "stderr"
        },
        {
          "output_type": "display_data",
          "data": {
            "text/html": [
              "<p style=\"color: red;\">\n",
              "The default version of TensorFlow in Colab will soon switch to TensorFlow 2.x.<br>\n",
              "We recommend you <a href=\"https://www.tensorflow.org/guide/migrate\" target=\"_blank\">upgrade</a> now \n",
              "or ensure your notebook will continue to use TensorFlow 1.x via the <code>%tensorflow_version 1.x</code> magic:\n",
              "<a href=\"https://colab.research.google.com/notebooks/tensorflow_version.ipynb\" target=\"_blank\">more info</a>.</p>\n"
            ],
            "text/plain": [
              "<IPython.core.display.HTML object>"
            ]
          },
          "metadata": {
            "tags": []
          }
        }
      ]
    },
    {
      "cell_type": "code",
      "metadata": {
        "id": "RHfkxe4CQFMl",
        "colab_type": "code",
        "colab": {}
      },
      "source": [
        "def chunks(l, n):\n",
        "    \"\"\"Yield successive n-sized chunks from l.\"\"\"\n",
        "    for i in range(0, len(l), n):\n",
        "        yield l[i:i + n]\n",
        "def fetch_vectors(string_list, batch_size=64):\n",
        "    # inspired by https://jalammar.github.io/a-visual-guide-to-using-bert-for-the-first-time/\n",
        "    DEVICE = torch.device(\"cuda\")\n",
        "    tokenizer = transformers.BertTokenizer.from_pretrained(\"bert-base-multilingual-cased\")\n",
        "    model = transformers.BertModel.from_pretrained(\"bert-base-multilingual-cased\")#bert-base-multilingual-cased\n",
        "    model.to(DEVICE)\n",
        "\n",
        "    fin_features = []\n",
        "    for data in chunks(string_list, batch_size):\n",
        "        tokenized = []\n",
        "        for x in data:\n",
        "            x = \" \".join(x.strip().split()[:300])\n",
        "            tok = tokenizer.encode(x, add_special_tokens=True)\n",
        "            tokenized.append(tok[:512])\n",
        "\n",
        "        max_len = 512\n",
        "        padded = np.array([i + [0] * (max_len - len(i)) for i in tokenized])\n",
        "        attention_mask = np.where(padded != 0, 1, 0)\n",
        "        input_ids = torch.tensor(padded).to(DEVICE)\n",
        "        attention_mask = torch.tensor(attention_mask).to(DEVICE)\n",
        "\n",
        "        with torch.no_grad():\n",
        "            last_hidden_states = model(input_ids, attention_mask=attention_mask)\n",
        "\n",
        "        features = last_hidden_states[0][:, 0, :].cpu().numpy()\n",
        "        fin_features.append(features)\n",
        "\n",
        "    fin_features = np.vstack(fin_features)\n",
        "    return fin_features"
      ],
      "execution_count": 0,
      "outputs": []
    },
    {
      "cell_type": "code",
      "metadata": {
        "id": "D7EZkg27Hed8",
        "colab_type": "code",
        "colab": {}
      },
      "source": [
        "import numpy as np\n",
        "import pandas as pd\n",
        "from catboost import CatBoostClassifier, Pool\n",
        "from sklearn.model_selection import train_test_split"
      ],
      "execution_count": 0,
      "outputs": []
    },
    {
      "cell_type": "code",
      "metadata": {
        "id": "wsNTQa7jIN08",
        "colab_type": "code",
        "outputId": "1f483360-43af-48b3-eca5-fa51d5d33ed6",
        "colab": {
          "base_uri": "https://localhost:8080/",
          "height": 204
        }
      },
      "source": [
        "train = pd.read_csv(\"/vkcup/My Drive/Colab Notebooks/vkcup/train.csv\", sep=\";\")\n",
        "train.head()"
      ],
      "execution_count": 0,
      "outputs": [
        {
          "output_type": "execute_result",
          "data": {
            "text/html": [
              "<div>\n",
              "<style scoped>\n",
              "    .dataframe tbody tr th:only-of-type {\n",
              "        vertical-align: middle;\n",
              "    }\n",
              "\n",
              "    .dataframe tbody tr th {\n",
              "        vertical-align: top;\n",
              "    }\n",
              "\n",
              "    .dataframe thead th {\n",
              "        text-align: right;\n",
              "    }\n",
              "</style>\n",
              "<table border=\"1\" class=\"dataframe\">\n",
              "  <thead>\n",
              "    <tr style=\"text-align: right;\">\n",
              "      <th></th>\n",
              "      <th>ID</th>\n",
              "      <th>Answer</th>\n",
              "    </tr>\n",
              "  </thead>\n",
              "  <tbody>\n",
              "    <tr>\n",
              "      <th>0</th>\n",
              "      <td>1</td>\n",
              "      <td>0</td>\n",
              "    </tr>\n",
              "    <tr>\n",
              "      <th>1</th>\n",
              "      <td>2</td>\n",
              "      <td>1</td>\n",
              "    </tr>\n",
              "    <tr>\n",
              "      <th>2</th>\n",
              "      <td>3</td>\n",
              "      <td>0</td>\n",
              "    </tr>\n",
              "    <tr>\n",
              "      <th>3</th>\n",
              "      <td>4</td>\n",
              "      <td>0</td>\n",
              "    </tr>\n",
              "    <tr>\n",
              "      <th>4</th>\n",
              "      <td>5</td>\n",
              "      <td>0</td>\n",
              "    </tr>\n",
              "  </tbody>\n",
              "</table>\n",
              "</div>"
            ],
            "text/plain": [
              "   ID  Answer\n",
              "0   1       0\n",
              "1   2       1\n",
              "2   3       0\n",
              "3   4       0\n",
              "4   5       0"
            ]
          },
          "metadata": {
            "tags": []
          },
          "execution_count": 6
        }
      ]
    },
    {
      "cell_type": "code",
      "metadata": {
        "id": "KVQKsRXtIaD1",
        "colab_type": "code",
        "outputId": "dbca2bc9-238d-4840-9ec7-8c9cb2835d05",
        "colab": {
          "base_uri": "https://localhost:8080/",
          "height": 204
        }
      },
      "source": [
        "test = pd.read_csv(\"/vkcup/My Drive/Colab Notebooks/vkcup/test.csv\", sep=\";\")\n",
        "test.head()"
      ],
      "execution_count": 0,
      "outputs": [
        {
          "output_type": "execute_result",
          "data": {
            "text/html": [
              "<div>\n",
              "<style scoped>\n",
              "    .dataframe tbody tr th:only-of-type {\n",
              "        vertical-align: middle;\n",
              "    }\n",
              "\n",
              "    .dataframe tbody tr th {\n",
              "        vertical-align: top;\n",
              "    }\n",
              "\n",
              "    .dataframe thead th {\n",
              "        text-align: right;\n",
              "    }\n",
              "</style>\n",
              "<table border=\"1\" class=\"dataframe\">\n",
              "  <thead>\n",
              "    <tr style=\"text-align: right;\">\n",
              "      <th></th>\n",
              "      <th>ID</th>\n",
              "    </tr>\n",
              "  </thead>\n",
              "  <tbody>\n",
              "    <tr>\n",
              "      <th>0</th>\n",
              "      <td>30001</td>\n",
              "    </tr>\n",
              "    <tr>\n",
              "      <th>1</th>\n",
              "      <td>30002</td>\n",
              "    </tr>\n",
              "    <tr>\n",
              "      <th>2</th>\n",
              "      <td>30003</td>\n",
              "    </tr>\n",
              "    <tr>\n",
              "      <th>3</th>\n",
              "      <td>30004</td>\n",
              "    </tr>\n",
              "    <tr>\n",
              "      <th>4</th>\n",
              "      <td>30005</td>\n",
              "    </tr>\n",
              "  </tbody>\n",
              "</table>\n",
              "</div>"
            ],
            "text/plain": [
              "      ID\n",
              "0  30001\n",
              "1  30002\n",
              "2  30003\n",
              "3  30004\n",
              "4  30005"
            ]
          },
          "metadata": {
            "tags": []
          },
          "execution_count": 7
        }
      ]
    },
    {
      "cell_type": "code",
      "metadata": {
        "id": "D8itDmmyIhY0",
        "colab_type": "code",
        "outputId": "3f544e1d-7bd6-43c6-a9b4-bcfed643f0dd",
        "colab": {
          "base_uri": "https://localhost:8080/",
          "height": 204
        }
      },
      "source": [
        "data = pd.read_csv(\"/vkcup/My Drive/Colab Notebooks/vkcup/data.csv\", sep=\";\")\n",
        "data.head()"
      ],
      "execution_count": 0,
      "outputs": [
        {
          "output_type": "execute_result",
          "data": {
            "text/html": [
              "<div>\n",
              "<style scoped>\n",
              "    .dataframe tbody tr th:only-of-type {\n",
              "        vertical-align: middle;\n",
              "    }\n",
              "\n",
              "    .dataframe tbody tr th {\n",
              "        vertical-align: top;\n",
              "    }\n",
              "\n",
              "    .dataframe thead th {\n",
              "        text-align: right;\n",
              "    }\n",
              "</style>\n",
              "<table border=\"1\" class=\"dataframe\">\n",
              "  <thead>\n",
              "    <tr style=\"text-align: right;\">\n",
              "      <th></th>\n",
              "      <th>ID</th>\n",
              "      <th>Question</th>\n",
              "    </tr>\n",
              "  </thead>\n",
              "  <tbody>\n",
              "    <tr>\n",
              "      <th>0</th>\n",
              "      <td>1</td>\n",
              "      <td>Как зовут лодочника на реке Стикс в древнегреч...</td>\n",
              "    </tr>\n",
              "    <tr>\n",
              "      <th>1</th>\n",
              "      <td>2</td>\n",
              "      <td>Как в химии обозначается свинец?</td>\n",
              "    </tr>\n",
              "    <tr>\n",
              "      <th>2</th>\n",
              "      <td>3</td>\n",
              "      <td>Какой химический элемент преобладает в составе...</td>\n",
              "    </tr>\n",
              "    <tr>\n",
              "      <th>3</th>\n",
              "      <td>4</td>\n",
              "      <td>Кто из перечисленных был пажом во времена Екат...</td>\n",
              "    </tr>\n",
              "    <tr>\n",
              "      <th>4</th>\n",
              "      <td>5</td>\n",
              "      <td>Когда началась 2 мировая война?</td>\n",
              "    </tr>\n",
              "  </tbody>\n",
              "</table>\n",
              "</div>"
            ],
            "text/plain": [
              "   ID                                           Question\n",
              "0   1  Как зовут лодочника на реке Стикс в древнегреч...\n",
              "1   2                   Как в химии обозначается свинец?\n",
              "2   3  Какой химический элемент преобладает в составе...\n",
              "3   4  Кто из перечисленных был пажом во времена Екат...\n",
              "4   5                    Когда началась 2 мировая война?"
            ]
          },
          "metadata": {
            "tags": []
          },
          "execution_count": 8
        }
      ]
    },
    {
      "cell_type": "code",
      "metadata": {
        "id": "B-NYKBL5ImAt",
        "colab_type": "code",
        "outputId": "8f95c819-55b0-4e7b-a08a-4d29e2a7a1d9",
        "colab": {
          "base_uri": "https://localhost:8080/",
          "height": 34
        }
      },
      "source": [
        "data.shape"
      ],
      "execution_count": 0,
      "outputs": [
        {
          "output_type": "execute_result",
          "data": {
            "text/plain": [
              "(41087, 2)"
            ]
          },
          "metadata": {
            "tags": []
          },
          "execution_count": 9
        }
      ]
    },
    {
      "cell_type": "code",
      "metadata": {
        "id": "zX4jy7A-Io5u",
        "colab_type": "code",
        "outputId": "19838d70-5ef6-46e8-a505-14c6706c9312",
        "colab": {
          "base_uri": "https://localhost:8080/",
          "height": 204
        }
      },
      "source": [
        "submission = pd.read_csv(\"/vkcup/My Drive/Colab Notebooks/vkcup/baseline_solution.csv\", sep=\",\", header=None)\n",
        "submission.head()"
      ],
      "execution_count": 0,
      "outputs": [
        {
          "output_type": "execute_result",
          "data": {
            "text/html": [
              "<div>\n",
              "<style scoped>\n",
              "    .dataframe tbody tr th:only-of-type {\n",
              "        vertical-align: middle;\n",
              "    }\n",
              "\n",
              "    .dataframe tbody tr th {\n",
              "        vertical-align: top;\n",
              "    }\n",
              "\n",
              "    .dataframe thead th {\n",
              "        text-align: right;\n",
              "    }\n",
              "</style>\n",
              "<table border=\"1\" class=\"dataframe\">\n",
              "  <thead>\n",
              "    <tr style=\"text-align: right;\">\n",
              "      <th></th>\n",
              "      <th>0</th>\n",
              "      <th>1</th>\n",
              "    </tr>\n",
              "  </thead>\n",
              "  <tbody>\n",
              "    <tr>\n",
              "      <th>0</th>\n",
              "      <td>30001</td>\n",
              "      <td>0.213623</td>\n",
              "    </tr>\n",
              "    <tr>\n",
              "      <th>1</th>\n",
              "      <td>30002</td>\n",
              "      <td>0.535675</td>\n",
              "    </tr>\n",
              "    <tr>\n",
              "      <th>2</th>\n",
              "      <td>30003</td>\n",
              "      <td>0.041250</td>\n",
              "    </tr>\n",
              "    <tr>\n",
              "      <th>3</th>\n",
              "      <td>30004</td>\n",
              "      <td>0.603919</td>\n",
              "    </tr>\n",
              "    <tr>\n",
              "      <th>4</th>\n",
              "      <td>30005</td>\n",
              "      <td>0.390166</td>\n",
              "    </tr>\n",
              "  </tbody>\n",
              "</table>\n",
              "</div>"
            ],
            "text/plain": [
              "       0         1\n",
              "0  30001  0.213623\n",
              "1  30002  0.535675\n",
              "2  30003  0.041250\n",
              "3  30004  0.603919\n",
              "4  30005  0.390166"
            ]
          },
          "metadata": {
            "tags": []
          },
          "execution_count": 10
        }
      ]
    },
    {
      "cell_type": "code",
      "metadata": {
        "id": "XiKnNbnOJD9a",
        "colab_type": "code",
        "outputId": "926ecc88-fec6-40a2-f6b9-8bbbcc0e1f97",
        "colab": {
          "base_uri": "https://localhost:8080/",
          "height": 235
        }
      },
      "source": [
        "train_data = data.set_index('ID').join(train.set_index('ID')).dropna()\n",
        "train_data['Answer'] = train_data['Answer'].astype('int')\n",
        "train_data.head()"
      ],
      "execution_count": 0,
      "outputs": [
        {
          "output_type": "execute_result",
          "data": {
            "text/html": [
              "<div>\n",
              "<style scoped>\n",
              "    .dataframe tbody tr th:only-of-type {\n",
              "        vertical-align: middle;\n",
              "    }\n",
              "\n",
              "    .dataframe tbody tr th {\n",
              "        vertical-align: top;\n",
              "    }\n",
              "\n",
              "    .dataframe thead th {\n",
              "        text-align: right;\n",
              "    }\n",
              "</style>\n",
              "<table border=\"1\" class=\"dataframe\">\n",
              "  <thead>\n",
              "    <tr style=\"text-align: right;\">\n",
              "      <th></th>\n",
              "      <th>Question</th>\n",
              "      <th>Answer</th>\n",
              "    </tr>\n",
              "    <tr>\n",
              "      <th>ID</th>\n",
              "      <th></th>\n",
              "      <th></th>\n",
              "    </tr>\n",
              "  </thead>\n",
              "  <tbody>\n",
              "    <tr>\n",
              "      <th>1</th>\n",
              "      <td>Как зовут лодочника на реке Стикс в древнегреч...</td>\n",
              "      <td>0</td>\n",
              "    </tr>\n",
              "    <tr>\n",
              "      <th>2</th>\n",
              "      <td>Как в химии обозначается свинец?</td>\n",
              "      <td>1</td>\n",
              "    </tr>\n",
              "    <tr>\n",
              "      <th>3</th>\n",
              "      <td>Какой химический элемент преобладает в составе...</td>\n",
              "      <td>0</td>\n",
              "    </tr>\n",
              "    <tr>\n",
              "      <th>4</th>\n",
              "      <td>Кто из перечисленных был пажом во времена Екат...</td>\n",
              "      <td>0</td>\n",
              "    </tr>\n",
              "    <tr>\n",
              "      <th>5</th>\n",
              "      <td>Когда началась 2 мировая война?</td>\n",
              "      <td>0</td>\n",
              "    </tr>\n",
              "  </tbody>\n",
              "</table>\n",
              "</div>"
            ],
            "text/plain": [
              "                                             Question  Answer\n",
              "ID                                                           \n",
              "1   Как зовут лодочника на реке Стикс в древнегреч...       0\n",
              "2                    Как в химии обозначается свинец?       1\n",
              "3   Какой химический элемент преобладает в составе...       0\n",
              "4   Кто из перечисленных был пажом во времена Екат...       0\n",
              "5                     Когда началась 2 мировая война?       0"
            ]
          },
          "metadata": {
            "tags": []
          },
          "execution_count": 11
        }
      ]
    },
    {
      "cell_type": "code",
      "metadata": {
        "id": "d2rp9GI22IZc",
        "colab_type": "code",
        "outputId": "1ed38e38-b0c7-428e-cccd-afdf5463acc0",
        "colab": {
          "base_uri": "https://localhost:8080/",
          "height": 34
        }
      },
      "source": [
        "Y = train_data['Answer']\n",
        "X = pd.DataFrame(train_data['Question'])\n",
        "X.shape"
      ],
      "execution_count": 0,
      "outputs": [
        {
          "output_type": "execute_result",
          "data": {
            "text/plain": [
              "(30000, 1)"
            ]
          },
          "metadata": {
            "tags": []
          },
          "execution_count": 12
        }
      ]
    },
    {
      "cell_type": "code",
      "metadata": {
        "id": "3Clod70XKT4X",
        "colab_type": "code",
        "outputId": "56922f53-6288-44b8-aba0-370794dab82a",
        "colab": {
          "base_uri": "https://localhost:8080/",
          "height": 235
        }
      },
      "source": [
        "test_data = data.set_index('ID').join(test.set_index('ID'), how='right').dropna()\n",
        "test_data.head()"
      ],
      "execution_count": 0,
      "outputs": [
        {
          "output_type": "execute_result",
          "data": {
            "text/html": [
              "<div>\n",
              "<style scoped>\n",
              "    .dataframe tbody tr th:only-of-type {\n",
              "        vertical-align: middle;\n",
              "    }\n",
              "\n",
              "    .dataframe tbody tr th {\n",
              "        vertical-align: top;\n",
              "    }\n",
              "\n",
              "    .dataframe thead th {\n",
              "        text-align: right;\n",
              "    }\n",
              "</style>\n",
              "<table border=\"1\" class=\"dataframe\">\n",
              "  <thead>\n",
              "    <tr style=\"text-align: right;\">\n",
              "      <th></th>\n",
              "      <th>Question</th>\n",
              "    </tr>\n",
              "    <tr>\n",
              "      <th>ID</th>\n",
              "      <th></th>\n",
              "    </tr>\n",
              "  </thead>\n",
              "  <tbody>\n",
              "    <tr>\n",
              "      <th>30001</th>\n",
              "      <td>Что в литературе обозначает слово \"эпитет\"?</td>\n",
              "    </tr>\n",
              "    <tr>\n",
              "      <th>30002</th>\n",
              "      <td>Когда отмечается ДЕНЬ ШОКОЛАДА</td>\n",
              "    </tr>\n",
              "    <tr>\n",
              "      <th>30003</th>\n",
              "      <td>Кто из этих бодибилдеров играл Халка</td>\n",
              "    </tr>\n",
              "    <tr>\n",
              "      <th>30004</th>\n",
              "      <td>Последняя на данный момент страна, официально ...</td>\n",
              "    </tr>\n",
              "    <tr>\n",
              "      <th>30005</th>\n",
              "      <td>Как зовут лютоволка Арьи Старк из сериала  «Иг...</td>\n",
              "    </tr>\n",
              "  </tbody>\n",
              "</table>\n",
              "</div>"
            ],
            "text/plain": [
              "                                                Question\n",
              "ID                                                      \n",
              "30001        Что в литературе обозначает слово \"эпитет\"?\n",
              "30002                     Когда отмечается ДЕНЬ ШОКОЛАДА\n",
              "30003               Кто из этих бодибилдеров играл Халка\n",
              "30004  Последняя на данный момент страна, официально ...\n",
              "30005  Как зовут лютоволка Арьи Старк из сериала  «Иг..."
            ]
          },
          "metadata": {
            "tags": []
          },
          "execution_count": 13
        }
      ]
    },
    {
      "cell_type": "code",
      "metadata": {
        "id": "KB11wAAWLEdp",
        "colab_type": "code",
        "outputId": "d6ef38c0-7db1-4113-a324-0992f9719e5a",
        "colab": {
          "base_uri": "https://localhost:8080/",
          "height": 34
        }
      },
      "source": [
        "test_data.shape"
      ],
      "execution_count": 0,
      "outputs": [
        {
          "output_type": "execute_result",
          "data": {
            "text/plain": [
              "(11087, 1)"
            ]
          },
          "metadata": {
            "tags": []
          },
          "execution_count": 14
        }
      ]
    },
    {
      "cell_type": "code",
      "metadata": {
        "id": "1ANfrvqXQu_w",
        "colab_type": "code",
        "colab": {}
      },
      "source": [
        "train_question_body_dense = fetch_vectors(X['Question'])"
      ],
      "execution_count": 0,
      "outputs": []
    },
    {
      "cell_type": "code",
      "metadata": {
        "id": "KkA2-jLBbjB-",
        "colab_type": "code",
        "colab": {}
      },
      "source": [
        "test_question_body_dense = fetch_vectors(test_data['Question'])"
      ],
      "execution_count": 0,
      "outputs": []
    },
    {
      "cell_type": "code",
      "metadata": {
        "id": "Vg9T3yqlRjYo",
        "colab_type": "code",
        "outputId": "9effe246-9aff-4c3b-d9ed-00b16595c0e6",
        "colab": {
          "base_uri": "https://localhost:8080/",
          "height": 34
        }
      },
      "source": [
        "import os\n",
        "import re\n",
        "import gc\n",
        "import pickle  \n",
        "import random\n",
        "import keras\n",
        "\n",
        "import numpy as np\n",
        "import pandas as pd\n",
        "import tensorflow as tf\n",
        "#import tensorflow_hub as hub\n",
        "from keras import backend as K\n",
        "\n",
        "from keras.models import Model\n",
        "from keras.layers import Dense, Input, Dropout, Lambda, GlobalAveragePooling1D, LSTM, Conv1D\n",
        "from keras.optimizers import Adam\n",
        "from keras.callbacks import Callback\n",
        "from scipy.stats import spearmanr, rankdata\n",
        "from os.path import join as path_join\n",
        "from numpy.random import seed\n",
        "from urllib.parse import urlparse\n",
        "from sklearn.preprocessing import OneHotEncoder\n",
        "from sklearn.model_selection import KFold\n",
        "from sklearn.linear_model import MultiTaskElasticNet\n",
        "\n",
        "seed(42)\n",
        "#tf.random.set_seed(42)\n",
        "random.seed(42)"
      ],
      "execution_count": 0,
      "outputs": [
        {
          "output_type": "stream",
          "text": [
            "Using TensorFlow backend.\n"
          ],
          "name": "stderr"
        }
      ]
    },
    {
      "cell_type": "code",
      "metadata": {
        "id": "uDJFAzRbVeer",
        "colab_type": "code",
        "colab": {}
      },
      "source": [
        "def auc(y_true, y_pred):\n",
        "    auc = tf.metrics.auc(y_true, y_pred)[1]\n",
        "    K.get_session().run(tf.local_variables_initializer())\n",
        "    return auc"
      ],
      "execution_count": 0,
      "outputs": []
    },
    {
      "cell_type": "code",
      "metadata": {
        "id": "P-DVXqa9mW0C",
        "colab_type": "code",
        "colab": {}
      },
      "source": [
        "X_train, X_test, y_train, y_test = train_test_split(train_question_body_dense, Y, test_size=0.3, random_state=42, shuffle=True)"
      ],
      "execution_count": 0,
      "outputs": []
    },
    {
      "cell_type": "code",
      "metadata": {
        "id": "sGroKJtYQ3tA",
        "colab_type": "code",
        "colab": {}
      },
      "source": [
        "def create_model():\n",
        "    inps = Input(shape=(train_question_body_dense.shape[1],))\n",
        "    x = Dense(512, activation='elu')(inps)\n",
        "    x = Dropout(0.2)(x)\n",
        "    x = Dense(1024, activation='elu')(x)\n",
        "    x = Dropout(0.1)(x)\n",
        "    x = Dense(512, activation='elu')(x)\n",
        "    x = Dropout(1)(x)\n",
        "    x = Dense(1, activation='sigmoid')(x)\n",
        "    model = Model(inputs=inps, outputs=x)\n",
        "    model.compile(\n",
        "        optimizer=Adam(lr=1e-4),\n",
        "        loss=['binary_crossentropy'],\n",
        "        metrics=[auc]\n",
        "    )\n",
        "    model.summary()\n",
        "    return model"
      ],
      "execution_count": 0,
      "outputs": []
    },
    {
      "cell_type": "code",
      "metadata": {
        "id": "0EQvMoG-RduU",
        "colab_type": "code",
        "outputId": "df5b4019-8f1c-4373-9ef4-78dcbd07675c",
        "colab": {
          "base_uri": "https://localhost:8080/",
          "height": 1000
        }
      },
      "source": [
        "all_predictions = []\n",
        "\n",
        "model = create_model()\n",
        "model.fit(X_train, y_train, epochs=50, validation_data=[X_test, y_test], batch_size=32, verbose=True)\n",
        "all_predictions.append(model.predict(train_question_body_dense))"
      ],
      "execution_count": 0,
      "outputs": [
        {
          "output_type": "stream",
          "text": [
            "_________________________________________________________________\n",
            "Layer (type)                 Output Shape              Param #   \n",
            "=================================================================\n",
            "input_3 (InputLayer)         (None, 768)               0         \n",
            "_________________________________________________________________\n",
            "dense_7 (Dense)              (None, 512)               393728    \n",
            "_________________________________________________________________\n",
            "dropout_5 (Dropout)          (None, 512)               0         \n",
            "_________________________________________________________________\n",
            "dense_8 (Dense)              (None, 1024)              525312    \n",
            "_________________________________________________________________\n",
            "dropout_6 (Dropout)          (None, 1024)              0         \n",
            "_________________________________________________________________\n",
            "dense_9 (Dense)              (None, 512)               524800    \n",
            "_________________________________________________________________\n",
            "dropout_7 (Dropout)          (None, 512)               0         \n",
            "_________________________________________________________________\n",
            "dense_10 (Dense)             (None, 1)                 513       \n",
            "=================================================================\n",
            "Total params: 1,444,353\n",
            "Trainable params: 1,444,353\n",
            "Non-trainable params: 0\n",
            "_________________________________________________________________\n",
            "Train on 21000 samples, validate on 9000 samples\n",
            "Epoch 1/50\n",
            "21000/21000 [==============================] - 5s 234us/step - loss: 0.3098 - auc: 0.6778 - val_loss: 0.2933 - val_auc: 0.7110\n",
            "Epoch 2/50\n",
            "21000/21000 [==============================] - 5s 225us/step - loss: 0.2935 - auc: 0.7226 - val_loss: 0.3032 - val_auc: 0.7282\n",
            "Epoch 3/50\n",
            "21000/21000 [==============================] - 5s 225us/step - loss: 0.2902 - auc: 0.7325 - val_loss: 0.2878 - val_auc: 0.7363\n",
            "Epoch 4/50\n",
            "21000/21000 [==============================] - 4s 212us/step - loss: 0.2873 - auc: 0.7404 - val_loss: 0.2830 - val_auc: 0.7433\n",
            "Epoch 5/50\n",
            "21000/21000 [==============================] - 5s 219us/step - loss: 0.2849 - auc: 0.7467 - val_loss: 0.2844 - val_auc: 0.7483\n",
            "Epoch 6/50\n",
            "21000/21000 [==============================] - 4s 209us/step - loss: 0.2807 - auc: 0.7508 - val_loss: 0.2883 - val_auc: 0.7528\n",
            "Epoch 7/50\n",
            "21000/21000 [==============================] - 4s 210us/step - loss: 0.2790 - auc: 0.7549 - val_loss: 0.2856 - val_auc: 0.7563\n",
            "Epoch 8/50\n",
            "21000/21000 [==============================] - 5s 216us/step - loss: 0.2766 - auc: 0.7581 - val_loss: 0.2896 - val_auc: 0.7594\n",
            "Epoch 9/50\n",
            "21000/21000 [==============================] - 5s 215us/step - loss: 0.2745 - auc: 0.7611 - val_loss: 0.2853 - val_auc: 0.7622\n",
            "Epoch 10/50\n",
            "21000/21000 [==============================] - 4s 208us/step - loss: 0.2732 - auc: 0.7636 - val_loss: 0.2875 - val_auc: 0.7649\n",
            "Epoch 11/50\n",
            "21000/21000 [==============================] - 5s 215us/step - loss: 0.2717 - auc: 0.7662 - val_loss: 0.2857 - val_auc: 0.7673\n",
            "Epoch 12/50\n",
            "21000/21000 [==============================] - 4s 212us/step - loss: 0.2691 - auc: 0.7686 - val_loss: 0.2837 - val_auc: 0.7697\n",
            "Epoch 13/50\n",
            "21000/21000 [==============================] - 5s 221us/step - loss: 0.2668 - auc: 0.7711 - val_loss: 0.3091 - val_auc: 0.7720\n",
            "Epoch 14/50\n",
            "21000/21000 [==============================] - 4s 204us/step - loss: 0.2640 - auc: 0.7730 - val_loss: 0.2910 - val_auc: 0.7741\n",
            "Epoch 15/50\n",
            "21000/21000 [==============================] - 4s 214us/step - loss: 0.2633 - auc: 0.7753 - val_loss: 0.2842 - val_auc: 0.7764\n",
            "Epoch 16/50\n",
            "21000/21000 [==============================] - 5s 216us/step - loss: 0.2615 - auc: 0.7774 - val_loss: 0.2977 - val_auc: 0.7783\n",
            "Epoch 17/50\n",
            "21000/21000 [==============================] - 4s 212us/step - loss: 0.2593 - auc: 0.7794 - val_loss: 0.2934 - val_auc: 0.7802\n",
            "Epoch 18/50\n",
            "21000/21000 [==============================] - 4s 212us/step - loss: 0.2553 - auc: 0.7813 - val_loss: 0.2887 - val_auc: 0.7822\n",
            "Epoch 19/50\n",
            "21000/21000 [==============================] - 5s 215us/step - loss: 0.2552 - auc: 0.7832 - val_loss: 0.3003 - val_auc: 0.7841\n",
            "Epoch 20/50\n",
            "21000/21000 [==============================] - 4s 214us/step - loss: 0.2527 - auc: 0.7850 - val_loss: 0.2929 - val_auc: 0.7859\n",
            "Epoch 21/50\n",
            "21000/21000 [==============================] - 4s 214us/step - loss: 0.2475 - auc: 0.7870 - val_loss: 0.3060 - val_auc: 0.7876\n",
            "Epoch 22/50\n",
            "21000/21000 [==============================] - 4s 213us/step - loss: 0.2471 - auc: 0.7885 - val_loss: 0.3111 - val_auc: 0.7891\n",
            "Epoch 23/50\n",
            "21000/21000 [==============================] - 4s 212us/step - loss: 0.2449 - auc: 0.7898 - val_loss: 0.3051 - val_auc: 0.7905\n",
            "Epoch 24/50\n",
            "21000/21000 [==============================] - 4s 213us/step - loss: 0.2423 - auc: 0.7914 - val_loss: 0.3057 - val_auc: 0.7921\n",
            "Epoch 25/50\n",
            "21000/21000 [==============================] - 4s 204us/step - loss: 0.2410 - auc: 0.7929 - val_loss: 0.3028 - val_auc: 0.7937\n",
            "Epoch 26/50\n",
            "21000/21000 [==============================] - 5s 222us/step - loss: 0.2385 - auc: 0.7947 - val_loss: 0.3032 - val_auc: 0.7953\n",
            "Epoch 27/50\n",
            "21000/21000 [==============================] - 5s 217us/step - loss: 0.2373 - auc: 0.7962 - val_loss: 0.3215 - val_auc: 0.7968\n",
            "Epoch 28/50\n",
            "21000/21000 [==============================] - 4s 211us/step - loss: 0.2350 - auc: 0.7975 - val_loss: 0.3246 - val_auc: 0.7981\n",
            "Epoch 29/50\n",
            "21000/21000 [==============================] - 5s 217us/step - loss: 0.2330 - auc: 0.7988 - val_loss: 0.3175 - val_auc: 0.7995\n",
            "Epoch 30/50\n",
            "21000/21000 [==============================] - 4s 209us/step - loss: 0.2282 - auc: 0.8004 - val_loss: 0.3248 - val_auc: 0.8011\n",
            "Epoch 31/50\n",
            "21000/21000 [==============================] - 4s 210us/step - loss: 0.2246 - auc: 0.8018 - val_loss: 0.3464 - val_auc: 0.8025\n",
            "Epoch 32/50\n",
            "21000/21000 [==============================] - 5s 215us/step - loss: 0.2277 - auc: 0.8030 - val_loss: 0.3076 - val_auc: 0.8038\n",
            "Epoch 33/50\n",
            "21000/21000 [==============================] - 5s 217us/step - loss: 0.2230 - auc: 0.8047 - val_loss: 0.3271 - val_auc: 0.8053\n",
            "Epoch 34/50\n",
            "21000/21000 [==============================] - 4s 210us/step - loss: 0.2205 - auc: 0.8061 - val_loss: 0.3143 - val_auc: 0.8067\n",
            "Epoch 35/50\n",
            "21000/21000 [==============================] - 4s 211us/step - loss: 0.2189 - auc: 0.8075 - val_loss: 0.3338 - val_auc: 0.8080\n",
            "Epoch 36/50\n",
            "21000/21000 [==============================] - 5s 218us/step - loss: 0.2169 - auc: 0.8087 - val_loss: 0.3295 - val_auc: 0.8094\n",
            "Epoch 37/50\n",
            "21000/21000 [==============================] - 4s 211us/step - loss: 0.2130 - auc: 0.8101 - val_loss: 0.3485 - val_auc: 0.8107\n",
            "Epoch 38/50\n",
            "21000/21000 [==============================] - 4s 211us/step - loss: 0.2128 - auc: 0.8114 - val_loss: 0.3402 - val_auc: 0.8119\n",
            "Epoch 39/50\n",
            "21000/21000 [==============================] - 4s 210us/step - loss: 0.2106 - auc: 0.8125 - val_loss: 0.3562 - val_auc: 0.8130\n",
            "Epoch 40/50\n",
            "21000/21000 [==============================] - 5s 216us/step - loss: 0.2060 - auc: 0.8137 - val_loss: 0.3756 - val_auc: 0.8141\n",
            "Epoch 41/50\n",
            "21000/21000 [==============================] - 4s 206us/step - loss: 0.2066 - auc: 0.8146 - val_loss: 0.3307 - val_auc: 0.8152\n",
            "Epoch 42/50\n",
            "21000/21000 [==============================] - 5s 218us/step - loss: 0.2030 - auc: 0.8159 - val_loss: 0.3539 - val_auc: 0.8165\n",
            "Epoch 43/50\n",
            "21000/21000 [==============================] - 4s 214us/step - loss: 0.2014 - auc: 0.8171 - val_loss: 0.3422 - val_auc: 0.8178\n",
            "Epoch 44/50\n",
            "21000/21000 [==============================] - 5s 220us/step - loss: 0.1992 - auc: 0.8184 - val_loss: 0.3574 - val_auc: 0.8189\n",
            "Epoch 45/50\n",
            "21000/21000 [==============================] - 4s 212us/step - loss: 0.1968 - auc: 0.8195 - val_loss: 0.3623 - val_auc: 0.8200\n",
            "Epoch 46/50\n",
            "21000/21000 [==============================] - 4s 212us/step - loss: 0.1954 - auc: 0.8206 - val_loss: 0.3852 - val_auc: 0.8212\n",
            "Epoch 47/50\n",
            "21000/21000 [==============================] - 4s 210us/step - loss: 0.1939 - auc: 0.8218 - val_loss: 0.3757 - val_auc: 0.8223\n",
            "Epoch 48/50\n",
            "21000/21000 [==============================] - 5s 215us/step - loss: 0.1908 - auc: 0.8229 - val_loss: 0.3715 - val_auc: 0.8234\n",
            "Epoch 49/50\n",
            "21000/21000 [==============================] - 5s 217us/step - loss: 0.1875 - auc: 0.8240 - val_loss: 0.3870 - val_auc: 0.8245\n",
            "Epoch 50/50\n",
            "21000/21000 [==============================] - 5s 219us/step - loss: 0.1854 - auc: 0.8250 - val_loss: 0.3932 - val_auc: 0.8255\n"
          ],
          "name": "stdout"
        }
      ]
    },
    {
      "cell_type": "code",
      "metadata": {
        "id": "igVC4bJbY5yM",
        "colab_type": "code",
        "outputId": "eecb3b87-daea-4116-d63c-bff19858a47a",
        "colab": {
          "base_uri": "https://localhost:8080/",
          "height": 34
        }
      },
      "source": [
        "metrics.roc_auc_score(Y, all_predictions[0])"
      ],
      "execution_count": 0,
      "outputs": [
        {
          "output_type": "execute_result",
          "data": {
            "text/plain": [
              "0.882766906706491"
            ]
          },
          "metadata": {
            "tags": []
          },
          "execution_count": 53
        }
      ]
    },
    {
      "cell_type": "code",
      "metadata": {
        "id": "sMKORWuzlSON",
        "colab_type": "code",
        "colab": {}
      },
      "source": [
        "import re\n",
        "pred =  model.predict(test_question_body_dense)\n",
        "ques = ['Кто', 'Что', 'Какой', 'Который', 'Где', 'Когда', 'Почему', 'Зачем', 'Куда', 'Откуда', 'Чей', 'Как', 'Чего','Кем','Чем','Кого','Чего', 'Сколько','Скольких', 'Каких', 'Кому', 'Чему','Чём', 'Чьим', 'Самое','Скольким','Скольким','Самая', 'Самый','Чья','Чью']\n",
        "ques = ques + [q.lower() for q in ques]\n",
        "\n",
        "for i, s in enumerate(test_data['Question']):\n",
        "  if '?' not in s:\n",
        "    pred[i] = 0\n",
        "  if s[0].islower():\n",
        "    pred[i] = 0\n",
        "  if ' ?' in s:\n",
        "    pred[i] = 0\n",
        "  fl = 0\n",
        "  for q in ques:\n",
        "    if q in s:\n",
        "      fl = 1\n",
        "  if fl ==0:\n",
        "    pred[i] = 0\n",
        "  if s.find('   ') != -1:\n",
        "    pred[i] = 0\n",
        "  if s.find('\\\\n') != -1:\n",
        "    pred[i] = 0\n",
        "  if s.find(',,') != -1:\n",
        "    pred[i] = 0\n",
        "  if s.find(' ,') != -1:\n",
        "    pred[i] = 0\n",
        "  if s.find('http') != -1:\n",
        "    pred[i] = 0\n",
        "  if s.find('Здравствуйте') != -1:\n",
        "    pred[i] = 0\n",
        "  if s.find('? ') != -1:\n",
        "    pred[i] = 0\n",
        "  if s.find('!?')!=-1 or s.find('?!')!=-1:\n",
        "    pred[i] = 0"
      ],
      "execution_count": 0,
      "outputs": []
    },
    {
      "cell_type": "code",
      "metadata": {
        "id": "DYStuFihUWtu",
        "colab_type": "code",
        "colab": {}
      },
      "source": [
        "submission[1] = pred"
      ],
      "execution_count": 0,
      "outputs": []
    },
    {
      "cell_type": "code",
      "metadata": {
        "id": "EfYEqLX1zcF-",
        "colab_type": "code",
        "colab": {}
      },
      "source": [
        "submission.to_csv('/vkcup/My Drive/Colab Notebooks/vkcup/submission.csv', sep=\",\", header=None, index=None)"
      ],
      "execution_count": 0,
      "outputs": []
    }
  ]
}